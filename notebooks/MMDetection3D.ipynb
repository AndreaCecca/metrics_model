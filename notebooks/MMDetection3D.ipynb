{
 "cells": [
  {
   "cell_type": "markdown",
   "id": "confidential-fleece",
   "metadata": {},
   "source": [
    "## This notebook generates the result file from mmdetection3d applied on nuscenes"
   ]
  },
  {
   "cell_type": "markdown",
   "id": "dental-specialist",
   "metadata": {},
   "source": [
    "#### Note: nuscenes-dev and mmdetection3d must be correctly installed \n",
    "\n",
    "#### Use conda environments\n",
    "\n",
    "conda activate nuscene\n",
    "\n",
    "conda activate mmm"
   ]
  },
  {
   "cell_type": "code",
   "execution_count": 64,
   "id": "sweet-cleaning",
   "metadata": {},
   "outputs": [],
   "source": [
    "from nuscenes import NuScenes\n",
    "from nuscenes.eval.prediction.splits import *\n",
    "from nuscenes.eval.detection import *\n",
    "from nuscenes.eval.detection import *\n",
    "from nuscenes.eval.detection.configs import *\n",
    "\n",
    "import nuscenes.eval.detection.config as cnfig\n",
    "import nuscenes.eval.detection.evaluate as dcl\n",
    "    \n",
    "from nuscenes.prediction import *\n",
    "from nuscenes.map_expansion.map_api import *\n",
    "\n",
    "import numpy as np\n",
    "import math\n",
    "import json"
   ]
  },
  {
   "cell_type": "code",
   "execution_count": 65,
   "id": "allied-bench",
   "metadata": {},
   "outputs": [
    {
     "name": "stdout",
     "output_type": "stream",
     "text": [
      "======\n",
      "Loading NuScenes tables for version v1.0-trainval...\n",
      "23 category,\n",
      "8 attribute,\n",
      "4 visibility,\n",
      "64386 instance,\n",
      "12 sensor,\n",
      "10200 calibrated_sensor,\n",
      "2631083 ego_pose,\n",
      "68 log,\n",
      "850 scene,\n",
      "34149 sample,\n",
      "2631083 sample_data,\n",
      "1166187 sample_annotation,\n",
      "4 map,\n",
      "Done loading in 25.874 seconds.\n",
      "======\n",
      "Reverse indexing ...\n",
      "Done reverse indexing in 7.5 seconds.\n",
      "======\n"
     ]
    }
   ],
   "source": [
    "DATAROOT = '/home/notebook/nuscene/data'\n",
    "nuscenes = NuScenes('v1.0-trainval', dataroot=DATAROOT)"
   ]
  },
  {
   "cell_type": "code",
   "execution_count": 66,
   "id": "naughty-jefferson",
   "metadata": {},
   "outputs": [],
   "source": [
    "#ego_list=nuscenes.ego_pose\n",
    "#curr_scene = nuscenes.scene[0]\n",
    "#nuscenes.list_scenes()\n",
    "#dir(nuscenes)\n",
    "#len(nuscenes.sample)\n",
    "#s=nuscenes.sample[0]\n",
    "#s['data']['RADAR_FRONT']\n",
    "#curr_scene\n",
    "#nuscenes.sample[0]\n",
    "#sample_curr=next(item for item in nuscenes.sample if item[\"token\"] == '30e55a3ec6184d8cb1944b39ba19d622')\n",
    "#sample_curr.items()"
   ]
  },
  {
   "cell_type": "markdown",
   "id": "fleet-sampling",
   "metadata": {},
   "source": [
    "#### Path per il detector e per memorizzare i risultati \n",
    "Path to configure detector and where detector results are stored. To be configured differently for each detector."
   ]
  },
  {
   "cell_type": "code",
   "execution_count": 71,
   "id": "forty-grace",
   "metadata": {},
   "outputs": [],
   "source": [
    "#directory da dove lanciare il comando python, in caso si voglia fare detection\n",
    "PWD='/home/notebook/mmdetection3d/'\n",
    "#folder dove vengono messi i risultati della detection\n",
    "OUTPUT='/home/notebook/mmdetection3d/'\n",
    "#json dove vengono messi i risultati della detection\n",
    "PATH='/home/notebook/mmdetection3d/fcos_results/img_bbox/'\n",
    "FILE_JSON='results_nusc.json'\n",
    "RESULT_PATH=PATH+FILE_JSON"
   ]
  },
  {
   "cell_type": "markdown",
   "id": "biological-carry",
   "metadata": {},
   "source": [
    "### Detectors available\n",
    "\n",
    "#### pointpillars con backbone FPN (Feature Pyramid Networks) -- LIDAR-only\n",
    "Risultati in: '/home/ceccarelli/nuscene/tmp/mmdetection3d/pointpillars_nuscenes_results/pts_bbox/results_nusc-fpn.json' \n",
    "\n",
    "Linea di esecuzione: python tools/test.py configs/pointpillars/hv_pointpillars_fpn_sbn-all_4x8_2x_nus-3d.py checkpoints/hv_pointpillars_fpn_sbn-all_4x8_2x_nus-3d_20200620_230405-2fa62f3d.pth --format-only --options 'jsonfile_prefix=./pointpillars_nuscenes_results'\n",
    "\n",
    "mAP: 40%\n",
    "\n",
    "#### pointpillars con backbone SECFPN -- LIDAR-only\n",
    "Risultati in: '/home/ceccarelli/nuscene/tmp/mmdetection3d/pointpillars_nuscenes_results/pts_bbox/results_nusc-secfpn.json' \n",
    "\n",
    "Linea di esecuzione:python tools/test.py configs/pointpillars/hv_pointpillars_secfpn_sbn-all_4x8_2x_nus-3d.py checkpoints/hv_pointpillars_secfpn_sbn-all_4x8_2x_nus-3d_20200620_230725-0817d270.pth --format-only --options 'jsonfile_prefix=./pointpillars_nuscenes_results'\n",
    "\n",
    "mAP: 35.17%\n",
    "\n",
    "#### RegNET-X (RegNET WITH RegNetX-1.6gF-FPN)\n",
    "Risultati in: '/home/ceccarelli/nuscene/tmp/mmdetection3d/regnetX_nuscenes_results-secfpn/pts_bbox/results_nusc-secfpn.json'\n",
    "\n",
    "Linea di esecuzione: python tools/test.py configs/regnet/hv_pointpillars_regnet-1.6gf_fpn_sbn-all_4x8_2x_nus-3d.py checkpoints/hv_pointpillars_regnet-1.6gf_fpn_sbn-all_4x8_2x_nus-3d_20200629_050311-dcd4e090.pth --format-only --options 'jsonfile_prefix=./regnetX_nuscenes_results-secfpn'\n",
    "\n",
    "mAP: 48.24%\n",
    "\n",
    "#### RegNET-X (RegNET WITH RegNetX-400MF-FPN)\n",
    "Risultati in: '/home/ceccarelli/nuscene/tmp/mmdetection3d/regnetX_nuscenes_results-secfpn/pts_bbox/results_nusc-400MF.json'\n",
    "\n",
    "Linea di esecuzione: python tools/test.py configs/regnet/hv_pointpillars_regnet-400mf_fpn_sbn-all_4x8_2x_nus-3d.py checkpoints/hv_pointpillars_regnet-400mf_fpn_sbn-all_4x8_2x_nus-3d_20200620_230239-c694dce7.pth --format-only --options 'jsonfile_prefix=./regnetX_nuscenes_results-secfpn'\n",
    "\n",
    "mAP: 44.84\n",
    "\n",
    "#### RegNET-X (RegNET WITH 400MF-SECFPN)\n",
    "Risultati in: '/home/ceccarelli/nuscene/tmp/mmdetection3d/regnetX_nuscenes_results-secfpn/pts_bbox/results_nusc-400mfsecfpn.json'\n",
    "\n",
    "Linea di esecuzione: python tools/test.py configs/regnet/hv_pointpillars_regnet-400mf_secfpn_sbn-all_4x8_2x_nus-3d.py checkpoints/hv_pointpillars_regnet-400mf_secfpn_sbn-all_4x8_2x_nus-3d_20200620_230334-53044f32.pth --format-only --options 'jsonfile_prefix=./regnetX_nuscenes_results-secfpn'\n",
    "\n",
    "mAP: 41.15%\n",
    "\n",
    "#### SSN con backbone SECFPN -- LIDAR-only\n",
    "Risultati in: '/home/ceccarelli/nuscene/tmp/mmdetection3d/ssn_nuscenes_results/pts_bbox/results_nusc-secfpn.json'\n",
    "\n",
    "Linea di esecuzione:\n",
    "python tools/test.py configs/ssn/hv_ssn_secfpn_sbn-all_2x16_2x_nus-3d.py checkpoints/hv_ssn_secfpn_sbn-all_2x16_2x_nus-3d_20201023_193737-5fda3f00.pth --format-only --options 'jsonfile_prefix=./ssn_nuscenes_results'\n",
    "\n",
    "mAP: 41.56%\n",
    "\n",
    "#### SSN con backbone REGNET -- LIDAR-only\n",
    "Risultati in: '/home/ceccarelli/nuscene/tmp/mmdetection3d/ssn_nuscenes_results/pts_bbox/results_nusc-regnet.json'\n",
    "\n",
    "Linea di esecuzione:\n",
    "python tools/test.py configs/ssn/hv_ssn_regnet-400mf_secfpn_sbn-all_2x16_2x_nus-3d.py checkpoints/hv_ssn_regnet-400mf_secfpn_sbn-all_2x16_2x_nus-3d_20201024_232447-7af3d8c8.pth --format-only --options 'jsonfile_prefix=./ssn_nuscenes_results'\n",
    "\n",
    "mAP:46.95%\n",
    "\n",
    "### FCOSD con backbone resnet 101 (finetuned) -- camera only\n",
    "Risultati in '/home/notebook/mmdetection3d/fcos_results/img_bbox/results_nusc.json'\n",
    "\n",
    "Linea di esecuzione:\n",
    "python tools/test.py configs/fcos3d/fcos3d_r101_caffe_fpn_gn-head_dcn_2x8_1x_nus-mono3d_finetune.py checkpoints/fcos3d_r101_caffe_fpn_gn-head_dcn_2x8_1x_nus-mono3d_finetune_20210427_091419-35aaaad0.pth --format-only --options 'jsonfile_prefix=./fcos_results'\n",
    "\n",
    "mAP: 32.1%"
   ]
  },
  {
   "cell_type": "markdown",
   "id": "lesbian-regression",
   "metadata": {},
   "source": [
    "### Test the detection"
   ]
  },
  {
   "cell_type": "markdown",
   "id": "necessary-tomato",
   "metadata": {},
   "source": [
    "This is the official nuScenes detection evaluation code.\n",
    "Results are written to the provided output_dir.\n",
    "nuScenes uses the following detection metrics:\n",
    "    - Mean Average Precision (mAP): Uses center-distance as matching criterion; averaged over distance thresholds.\n",
    "    - True Positive (TP) metrics: Average of translation, velocity, scale, orientation and attribute errors.\n",
    "    - nuScenes Detection Score (NDS): The weighted sum of the above.\n",
    "Here is an overview of the functions in this method:\n",
    "    - init: Loads GT annotations and predictions stored in JSON format and filters the boxes.\n",
    "    - run: Performs evaluation and dumps the metric data to disk.\n",
    "    - render: Renders various plots and dumps to disk.\n",
    "We assume that:\n",
    "    - Every sample_token is given in the results, although there may be not predictions for that sample.\n",
    "    Please see https://www.nuscenes.org/object-detection for more details."
   ]
  },
  {
   "cell_type": "markdown",
   "id": "designing-vault",
   "metadata": {},
   "source": [
    "DetectionEval:\n",
    "    :param nusc: A NuScenes object.\n",
    "        :param config: A DetectionConfig object.\n",
    "        :param result_path: Path of the nuScenes JSON result file.\n",
    "        :param eval_set: The dataset split to evaluate on, e.g. train, val or test.\n",
    "        :param output_dir: Folder to save plots and results to.\n",
    "        :param verbose: Whether to print to stdout.\n",
    "\n",
    "                def main(self,\n",
    "             plot_examples: int = 0,\n",
    "             render_curves: bool = True) -> Dict[str, Any]:\n"
   ]
  },
  {
   "cell_type": "code",
   "execution_count": 72,
   "id": "running-average",
   "metadata": {},
   "outputs": [],
   "source": [
    "confvalue=cnfig.config_factory(\"detection_cvpr_2019\")"
   ]
  },
  {
   "cell_type": "markdown",
   "id": "pleasant-inventory",
   "metadata": {},
   "source": [
    "{\n",
    "  \"class_range\": {\n",
    "    \"car\": 50,\n",
    "    \"truck\": 50,\n",
    "    \"bus\": 50,\n",
    "    \"trailer\": 50,\n",
    "    \"construction_vehicle\": 50,\n",
    "    \"pedestrian\": 40,\n",
    "    \"motorcycle\": 40,\n",
    "    \"bicycle\": 40,\n",
    "    \"traffic_cone\": 30,\n",
    "    \"barrier\": 30\n",
    "  },\n",
    "  \"dist_fcn\": \"center_distance\",\n",
    "  \"dist_ths\": [0.5, 1.0, 2.0, 4.0],\n",
    "  \"dist_th_tp\": 2.0,\n",
    "  \"min_recall\": 0.1,\n",
    "  \"min_precision\": 0.1,\n",
    "  \"max_boxes_per_sample\": 500,\n",
    "  \"mean_ap_weight\": 5\n",
    "}\n"
   ]
  },
  {
   "cell_type": "code",
   "execution_count": 73,
   "id": "embedded-jerusalem",
   "metadata": {},
   "outputs": [],
   "source": [
    "#number of scene that compose the val set\n",
    "eval=val = \\\n",
    "    ['scene-0003', 'scene-0012', 'scene-0013', 'scene-0014', 'scene-0015', 'scene-0016', 'scene-0017', 'scene-0018',\n",
    "     'scene-0035', 'scene-0036', 'scene-0038', 'scene-0039', 'scene-0092', 'scene-0093', 'scene-0094', 'scene-0095',\n",
    "     'scene-0096', 'scene-0097', 'scene-0098', 'scene-0099', 'scene-0100', 'scene-0101', 'scene-0102', 'scene-0103',\n",
    "     'scene-0104', 'scene-0105', 'scene-0106', 'scene-0107', 'scene-0108', 'scene-0109', 'scene-0110', 'scene-0221',\n",
    "     'scene-0268', 'scene-0269', 'scene-0270', 'scene-0271', 'scene-0272', 'scene-0273', 'scene-0274', 'scene-0275',\n",
    "     'scene-0276', 'scene-0277', 'scene-0278', 'scene-0329', 'scene-0330', 'scene-0331', 'scene-0332', 'scene-0344',\n",
    "     'scene-0345', 'scene-0346', 'scene-0519', 'scene-0520', 'scene-0521', 'scene-0522', 'scene-0523', 'scene-0524',\n",
    "     'scene-0552', 'scene-0553', 'scene-0554', 'scene-0555', 'scene-0556', 'scene-0557', 'scene-0558', 'scene-0559',\n",
    "     'scene-0560', 'scene-0561', 'scene-0562', 'scene-0563', 'scene-0564', 'scene-0565', 'scene-0625', 'scene-0626',\n",
    "     'scene-0627', 'scene-0629', 'scene-0630', 'scene-0632', 'scene-0633', 'scene-0634', 'scene-0635', 'scene-0636',\n",
    "     'scene-0637', 'scene-0638', 'scene-0770', 'scene-0771', 'scene-0775', 'scene-0777', 'scene-0778', 'scene-0780',\n",
    "     'scene-0781', 'scene-0782', 'scene-0783', 'scene-0784', 'scene-0794', 'scene-0795', 'scene-0796', 'scene-0797',\n",
    "     'scene-0798', 'scene-0799', 'scene-0800', 'scene-0802', 'scene-0904', 'scene-0905', 'scene-0906', 'scene-0907',\n",
    "     'scene-0908', 'scene-0909', 'scene-0910', 'scene-0911', 'scene-0912', 'scene-0913', 'scene-0914', 'scene-0915',\n",
    "     'scene-0916', 'scene-0917', 'scene-0919', 'scene-0920', 'scene-0921', 'scene-0922', 'scene-0923', 'scene-0924',\n",
    "     'scene-0925', 'scene-0926', 'scene-0927', 'scene-0928', 'scene-0929', 'scene-0930', 'scene-0931', 'scene-0962',\n",
    "     'scene-0963', 'scene-0966', 'scene-0967', 'scene-0968', 'scene-0969', 'scene-0971', 'scene-0972', 'scene-1059',\n",
    "     'scene-1060', 'scene-1061', 'scene-1062', 'scene-1063', 'scene-1064', 'scene-1065', 'scene-1066', 'scene-1067',\n",
    "     'scene-1068', 'scene-1069', 'scene-1070', 'scene-1071', 'scene-1072', 'scene-1073']"
   ]
  },
  {
   "cell_type": "code",
   "execution_count": 74,
   "id": "bronze-shaft",
   "metadata": {
    "scrolled": true
   },
   "outputs": [
    {
     "name": "stdout",
     "output_type": "stream",
     "text": [
      "Initializing nuScenes detection evaluation\n"
     ]
    },
    {
     "name": "stderr",
     "output_type": "stream",
     "text": [
      "\r",
      "  0%|          | 0/6019 [00:00<?, ?it/s]"
     ]
    },
    {
     "name": "stdout",
     "output_type": "stream",
     "text": [
      "Loaded results from /home/notebook/mmdetection3d/fcos_results/img_bbox/results_nusc.json. Found detections for 6019 samples.\n",
      "Loading annotations for val split from nuScenes version: v1.0-trainval\n"
     ]
    },
    {
     "name": "stderr",
     "output_type": "stream",
     "text": [
      "100%|██████████| 6019/6019 [00:07<00:00, 847.53it/s] \n"
     ]
    },
    {
     "name": "stdout",
     "output_type": "stream",
     "text": [
      "Loaded ground truth annotations for 6019 samples.\n",
      "Filtering predictions\n",
      "=> Original number of boxes: 447331\n",
      "=> After distance based filtering: 447056\n",
      "=> After LIDAR points based filtering: 447056\n",
      "=> After bike rack filtering: 446658\n",
      "Filtering ground truth annotations\n",
      "=> Original number of boxes: 187528\n",
      "=> After distance based filtering: 134565\n",
      "=> After LIDAR points based filtering: 121871\n",
      "=> After bike rack filtering: 121861\n"
     ]
    }
   ],
   "source": [
    "#execute detection on val set\n",
    "dt=dcl.DetectionEval(nuscenes,confvalue, RESULT_PATH, 'val', OUTPUT, verbose=True)"
   ]
  },
  {
   "cell_type": "code",
   "execution_count": 75,
   "id": "banner-criticism",
   "metadata": {},
   "outputs": [],
   "source": [
    "# type(dt)\n",
    "# type(dt.gt_boxes) # nuscenes.eval.common.data_classes.EvalBoxes\n",
    "# len(dt.gt_boxes.boxes) # è 6019\n",
    "# type(dt.sample_tokens)\n",
    "# len(dt.sample_tokens) # è 6019\n",
    "# type(dt.sample_tokens[0]) # è str\n",
    "# dt.gt_boxes.boxes.values() --> dict_values([[{'sample_token': 'fd8420396768425eabec9bdddf7e64b6', 'translation': [242.87, 926.036, 0.898], 'size': [1.726, 4.257, 1.489], 'rotation': [0.787419398050721, 0.0, 0.0, -0.616417627565468], 'velocity': array([ 0.16021727, -0.69494243]), 'ego_translation': (-7.026109314307774, 8.483742683721516, 0.898), 'num_pts': 173, 'detection_name': 'car', 'detection_score': -1.0, 'attribute_name': 'vehicle.moving'}, {'sample_token': 'fd8420396768425eabec9bdddf7e64b6', 'translation': [244.281, 934.941, 1.099], 'size': [1.71, 4.248, 1.527], 'rotation': [0.7424261677818073, 0.0, 0.0, 0.6699278956670037], 'velocity': array([0., 0.]), 'ego_translation': (-5.615109314307773, 17.388742683721603, 1.099), 'num_pts': 35, 'detection_name': 'car', 'detection_score': -1.0, 'attribute_name': 'vehicle.parked'}, "
   ]
  },
  {
   "cell_type": "code",
   "execution_count": 76,
   "id": "direct-leather",
   "metadata": {
    "scrolled": false
   },
   "outputs": [
    {
     "name": "stdout",
     "output_type": "stream",
     "text": [
      "Accumulating metric data...\n",
      "Calculating metrics...\n",
      "Saving metrics to: /home/notebook/mmdetection3d/\n",
      "mAP: 0.3213\n",
      "mATE: 0.7458\n",
      "mASE: 0.2651\n",
      "mAOE: 0.5032\n",
      "mAVE: 1.3508\n",
      "mAAE: 0.1595\n",
      "NDS: 0.3933\n",
      "Eval time: 120.3s\n",
      "\n",
      "Per-class results:\n",
      "Object Class\tAP\tATE\tASE\tAOE\tAVE\tAAE\n",
      "car\t0.487\t0.597\t0.149\t0.118\t2.047\t0.141\n",
      "truck\t0.242\t0.822\t0.203\t0.208\t1.363\t0.177\n",
      "bus\t0.327\t0.785\t0.189\t0.254\t2.766\t0.280\n",
      "trailer\t0.116\t1.115\t0.213\t0.657\t0.550\t0.059\n",
      "construction_vehicle\t0.050\t0.999\t0.472\t1.120\t0.146\t0.310\n",
      "pedestrian\t0.381\t0.684\t0.285\t0.669\t0.884\t0.158\n",
      "motorcycle\t0.309\t0.717\t0.264\t0.600\t2.160\t0.134\n",
      "bicycle\t0.295\t0.668\t0.276\t0.744\t0.891\t0.017\n",
      "traffic_cone\t0.535\t0.502\t0.320\tnan\tnan\tnan\n",
      "barrier\t0.471\t0.569\t0.280\t0.159\tnan\tnan\n"
     ]
    },
    {
     "data": {
      "text/plain": [
       "{'label_aps': defaultdict(<function nuscenes.eval.detection.data_classes.DetectionMetrics.__init__.<locals>.<lambda>()>,\n",
       "             {'car': defaultdict(float,\n",
       "                          {0.5: 0.11802920672809981,\n",
       "                           1.0: 0.37248684186532127,\n",
       "                           2.0: 0.6552978174502672,\n",
       "                           4.0: 0.8040397879823017}),\n",
       "              'truck': defaultdict(float,\n",
       "                          {0.5: 0.006857168143751287,\n",
       "                           1.0: 0.10584729296444757,\n",
       "                           2.0: 0.3332172220310869,\n",
       "                           4.0: 0.5206507989089898}),\n",
       "              'bus': defaultdict(float,\n",
       "                          {0.5: 0.02309769588978877,\n",
       "                           1.0: 0.16393238098925264,\n",
       "                           2.0: 0.45584408852599007,\n",
       "                           4.0: 0.6643862934825443}),\n",
       "              'trailer': defaultdict(float,\n",
       "                          {0.5: 0.0,\n",
       "                           1.0: 0.0009190521210733135,\n",
       "                           2.0: 0.12314367635597823,\n",
       "                           4.0: 0.3406243005986373}),\n",
       "              'construction_vehicle': defaultdict(float,\n",
       "                          {0.5: 0.0,\n",
       "                           1.0: 0.002983242955687107,\n",
       "                           2.0: 0.050526272910090354,\n",
       "                           4.0: 0.14726656789456183}),\n",
       "              'pedestrian': defaultdict(float,\n",
       "                          {0.5: 0.071747041224123,\n",
       "                           1.0: 0.26945730241158145,\n",
       "                           2.0: 0.5091414416487086,\n",
       "                           4.0: 0.6737833948524341}),\n",
       "              'motorcycle': defaultdict(float,\n",
       "                          {0.5: 0.04276082832120269,\n",
       "                           1.0: 0.2194768181180524,\n",
       "                           2.0: 0.41330082642874527,\n",
       "                           4.0: 0.5591669484198603}),\n",
       "              'bicycle': defaultdict(float,\n",
       "                          {0.5: 0.05342097287290855,\n",
       "                           1.0: 0.21675729329896443,\n",
       "                           2.0: 0.3869265278302461,\n",
       "                           4.0: 0.52438329923677}),\n",
       "              'traffic_cone': defaultdict(float,\n",
       "                          {0.5: 0.23652808559533403,\n",
       "                           1.0: 0.4978294002948876,\n",
       "                           2.0: 0.6616068623948165,\n",
       "                           4.0: 0.7424916305106433}),\n",
       "              'barrier': defaultdict(float,\n",
       "                          {0.5: 0.1541739219428543,\n",
       "                           1.0: 0.43290077953389844,\n",
       "                           2.0: 0.6127059142304028,\n",
       "                           4.0: 0.6824936766471156})}),\n",
       " 'mean_dist_aps': {'car': 0.48746341350649747,\n",
       "  'truck': 0.24164312051206888,\n",
       "  'bus': 0.32681511472189395,\n",
       "  'trailer': 0.1161717572689222,\n",
       "  'construction_vehicle': 0.05019402094008482,\n",
       "  'pedestrian': 0.38103229503421177,\n",
       "  'motorcycle': 0.30867635532196513,\n",
       "  'bicycle': 0.29537202330972223,\n",
       "  'traffic_cone': 0.5346139946989203,\n",
       "  'barrier': 0.4705685730885678},\n",
       " 'mean_ap': 0.3212550668402855,\n",
       " 'label_tp_errors': defaultdict(<function nuscenes.eval.detection.data_classes.DetectionMetrics.__init__.<locals>.<lambda>()>,\n",
       "             {'car': defaultdict(float,\n",
       "                          {'trans_err': 0.5972679455371576,\n",
       "                           'scale_err': 0.1491649598842727,\n",
       "                           'orient_err': 0.11789243237580779,\n",
       "                           'vel_err': 2.046803313138219,\n",
       "                           'attr_err': 0.14067928068027866}),\n",
       "              'truck': defaultdict(float,\n",
       "                          {'trans_err': 0.8215919368839525,\n",
       "                           'scale_err': 0.20285514418433168,\n",
       "                           'orient_err': 0.20781095118046392,\n",
       "                           'vel_err': 1.3630100302052752,\n",
       "                           'attr_err': 0.17700841171051687}),\n",
       "              'bus': defaultdict(float,\n",
       "                          {'trans_err': 0.7847967075539991,\n",
       "                           'scale_err': 0.18884567510185662,\n",
       "                           'orient_err': 0.2544738180717016,\n",
       "                           'vel_err': 2.765564993000334,\n",
       "                           'attr_err': 0.28000867465551876}),\n",
       "              'trailer': defaultdict(float,\n",
       "                          {'trans_err': 1.1154541668432976,\n",
       "                           'scale_err': 0.2133411108354042,\n",
       "                           'orient_err': 0.6571268515126607,\n",
       "                           'vel_err': 0.5501163788199576,\n",
       "                           'attr_err': 0.05938234225003256}),\n",
       "              'construction_vehicle': defaultdict(float,\n",
       "                          {'trans_err': 0.9988431469746718,\n",
       "                           'scale_err': 0.4722595846767037,\n",
       "                           'orient_err': 1.1198668629998567,\n",
       "                           'vel_err': 0.14605833398189713,\n",
       "                           'attr_err': 0.3104181333585704}),\n",
       "              'pedestrian': defaultdict(float,\n",
       "                          {'trans_err': 0.6842622215186277,\n",
       "                           'scale_err': 0.28468582248090796,\n",
       "                           'orient_err': 0.6688603417636358,\n",
       "                           'vel_err': 0.8840881179322047,\n",
       "                           'attr_err': 0.15786263314587806}),\n",
       "              'motorcycle': defaultdict(float,\n",
       "                          {'trans_err': 0.7169065776364826,\n",
       "                           'scale_err': 0.26364256137229813,\n",
       "                           'orient_err': 0.60013761224494,\n",
       "                           'vel_err': 2.1600769456343656,\n",
       "                           'attr_err': 0.13408742836906754}),\n",
       "              'bicycle': defaultdict(float,\n",
       "                          {'trans_err': 0.6678185622892752,\n",
       "                           'scale_err': 0.27582999352878196,\n",
       "                           'orient_err': 0.7440386940076738,\n",
       "                           'vel_err': 0.8907308283950978,\n",
       "                           'attr_err': 0.01680308947640581}),\n",
       "              'traffic_cone': defaultdict(float,\n",
       "                          {'trans_err': 0.5017982518642197,\n",
       "                           'scale_err': 0.319836111518446,\n",
       "                           'orient_err': nan,\n",
       "                           'vel_err': nan,\n",
       "                           'attr_err': nan}),\n",
       "              'barrier': defaultdict(float,\n",
       "                          {'trans_err': 0.569431861282943,\n",
       "                           'scale_err': 0.2804932316625495,\n",
       "                           'orient_err': 0.1587207026807584,\n",
       "                           'vel_err': nan,\n",
       "                           'attr_err': nan})}),\n",
       " 'tp_errors': {'trans_err': 0.7458171378384627,\n",
       "  'scale_err': 0.26509541952455523,\n",
       "  'orient_err': 0.5032142518708332,\n",
       "  'vel_err': 1.350806117638419,\n",
       "  'attr_err': 0.15953124920578357},\n",
       " 'tp_scores': {'trans_err': 0.2541828621615373,\n",
       "  'scale_err': 0.7349045804754448,\n",
       "  'orient_err': 0.49678574812916676,\n",
       "  'vel_err': 0.0,\n",
       "  'attr_err': 0.8404687507942165},\n",
       " 'nd_score': 0.3932617275761793,\n",
       " 'eval_time': 120.34527516365051,\n",
       " 'cfg': {'class_range': {'car': 50,\n",
       "   'truck': 50,\n",
       "   'bus': 50,\n",
       "   'trailer': 50,\n",
       "   'construction_vehicle': 50,\n",
       "   'pedestrian': 40,\n",
       "   'motorcycle': 40,\n",
       "   'bicycle': 40,\n",
       "   'traffic_cone': 30,\n",
       "   'barrier': 30},\n",
       "  'dist_fcn': 'center_distance',\n",
       "  'dist_ths': [0.5, 1.0, 2.0, 4.0],\n",
       "  'dist_th_tp': 2.0,\n",
       "  'min_recall': 0.1,\n",
       "  'min_precision': 0.1,\n",
       "  'max_boxes_per_sample': 500,\n",
       "  'mean_ap_weight': 5},\n",
       " 'meta': {'use_lidar': False,\n",
       "  'use_camera': True,\n",
       "  'use_radar': False,\n",
       "  'use_map': False,\n",
       "  'use_external': False}}"
      ]
     },
     "execution_count": 76,
     "metadata": {},
     "output_type": "execute_result"
    }
   ],
   "source": [
    "dt.main(plot_examples=0,render_curves=False)"
   ]
  }
 ],
 "metadata": {
  "kernelspec": {
   "display_name": "mmm",
   "language": "python",
   "name": "mmm"
  },
  "language_info": {
   "codemirror_mode": {
    "name": "ipython",
    "version": 3
   },
   "file_extension": ".py",
   "mimetype": "text/x-python",
   "name": "python",
   "nbconvert_exporter": "python",
   "pygments_lexer": "ipython3",
   "version": "3.7.9"
  }
 },
 "nbformat": 4,
 "nbformat_minor": 5
}
